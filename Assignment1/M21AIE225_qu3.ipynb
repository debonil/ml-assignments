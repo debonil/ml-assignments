{
 "cells": [
  {
   "cell_type": "code",
   "execution_count": 727,
   "metadata": {},
   "outputs": [],
   "source": [
    "import pandas as pd\n",
    "import numpy as np\n",
    "import matplotlib.pyplot as plt\n",
    "import seaborn as sns\n",
    "\n",
    "from sklearn.metrics import classification_report"
   ]
  },
  {
   "cell_type": "code",
   "execution_count": 728,
   "metadata": {},
   "outputs": [],
   "source": [
    "def confusion_matrix(actual, pred):\n",
    "    tp = 0\n",
    "    fp = 0\n",
    "    tn = 0\n",
    "    fn = 0\n",
    "\n",
    "    for i in range(len(actual)):\n",
    "        if actual[i] == 1:\n",
    "            if pred[i] == 1:\n",
    "                tp += 1\n",
    "            else:\n",
    "                fn += 1\n",
    "        else:\n",
    "            if pred[i] == 1:\n",
    "                fp += 1\n",
    "            else:\n",
    "                tn += 1\n",
    "\n",
    "    return np.array([[tp, fn], [fp, tn]])\n"
   ]
  },
  {
   "cell_type": "code",
   "execution_count": 729,
   "metadata": {},
   "outputs": [],
   "source": [
    "def train_test_split(df, target, train_size, random_state):\n",
    "    trainX = df.sample(frac=train_size, random_state=random_state)\n",
    "    testX = df.drop(trainX.index)\n",
    "    trainY = target.sample(frac=train_size, random_state=random_state)\n",
    "    testY = target.drop(trainY.index)\n",
    "    return trainX, testX, trainY, testY\n"
   ]
  },
  {
   "cell_type": "code",
   "execution_count": 730,
   "metadata": {},
   "outputs": [],
   "source": [
    "class Node():\n",
    "    def __init__(self, feature_index: float = None, threshold: float = None, left=None, right=None, info_gain: float = None, value: float = None):\n",
    "\n",
    "        self.feature_index = feature_index\n",
    "        self.threshold = threshold\n",
    "        self.left = left\n",
    "        self.right = right\n",
    "        self.info_gain = info_gain\n",
    "        self.value = value\n"
   ]
  },
  {
   "cell_type": "code",
   "execution_count": 731,
   "metadata": {},
   "outputs": [],
   "source": [
    "class DecisionTreeClassifier():\n",
    "    def __init__(self, min_samples_split=2, max_depth=10):\n",
    "        self.root = None\n",
    "        self.min_samples_split = min_samples_split\n",
    "        self.max_depth = max_depth\n",
    "\n",
    "    def build_tree(self, dataset, curr_depth=0):\n",
    "\n",
    "        X, Y = dataset[:, :-1], dataset[:, -1]\n",
    "        num_samples, num_features = np.shape(X)\n",
    "\n",
    "        if num_samples >= self.min_samples_split and curr_depth <= self.max_depth:\n",
    "\n",
    "            best_split = self.get_best_split(\n",
    "                dataset, num_samples, num_features)\n",
    "\n",
    "            if best_split[\"info_gain\"] > 0:\n",
    "\n",
    "                left_subtree = self.build_tree(\n",
    "                    best_split[\"dataset_left\"], curr_depth+1)\n",
    "\n",
    "                right_subtree = self.build_tree(\n",
    "                    best_split[\"dataset_right\"], curr_depth+1)\n",
    "\n",
    "                return Node(best_split[\"feature_index\"], best_split[\"threshold\"],\n",
    "                            left_subtree, right_subtree, best_split[\"info_gain\"])\n",
    "\n",
    "        leaf_value = self.calculate_leaf_value(Y)\n",
    "\n",
    "        return Node(value=leaf_value)\n",
    "\n",
    "    def get_best_split(self, dataset, num_samples, num_features):\n",
    "\n",
    "        best_split = {}\n",
    "        max_info_gain = -float(\"inf\")\n",
    "\n",
    "        for feature_index in range(num_features):\n",
    "            feature_values = dataset[:, feature_index]\n",
    "            possible_thresholds = np.unique(feature_values)\n",
    "\n",
    "            for threshold in possible_thresholds:\n",
    "\n",
    "                dataset_left, dataset_right = self.split(\n",
    "                    dataset, feature_index, threshold)\n",
    "\n",
    "                if len(dataset_left) > 0 and len(dataset_right) > 0:\n",
    "                    y, left_y, right_y = dataset[:, -\n",
    "                                                 1], dataset_left[:, -1], dataset_right[:, -1]\n",
    "\n",
    "                    curr_info_gain = self.information_gain(y, left_y, right_y,mode=\"gini\")\n",
    "\n",
    "                    if curr_info_gain > max_info_gain:\n",
    "                        best_split[\"feature_index\"] = feature_index\n",
    "                        best_split[\"threshold\"] = threshold\n",
    "                        best_split[\"dataset_left\"] = dataset_left\n",
    "                        best_split[\"dataset_right\"] = dataset_right\n",
    "                        best_split[\"info_gain\"] = curr_info_gain\n",
    "                        max_info_gain = curr_info_gain\n",
    "\n",
    "        return best_split\n",
    "\n",
    "    def split(self, dataset, feature_index, threshold):\n",
    "\n",
    "        dataset_left = np.array(\n",
    "            [row for row in dataset if row[feature_index] <= threshold])\n",
    "        dataset_right = np.array(\n",
    "            [row for row in dataset if row[feature_index] > threshold])\n",
    "        return dataset_left, dataset_right\n",
    "\n",
    "    def information_gain(self, parent, l_child, r_child, mode=\"entropy\"):\n",
    "\n",
    "        weight_l = len(l_child) / len(parent)\n",
    "        weight_r = len(r_child) / len(parent)\n",
    "        if mode == \"gini\":\n",
    "            gain = self.gini_index(\n",
    "                parent) - (weight_l*self.gini_index(l_child) + weight_r*self.gini_index(r_child))\n",
    "        else:\n",
    "            gain = self.entropy(\n",
    "                parent) - (weight_l*self.entropy(l_child) + weight_r*self.entropy(r_child))\n",
    "        return gain\n",
    "\n",
    "    def entropy(self, y):\n",
    "\n",
    "        class_labels = np.unique(y)\n",
    "        entropy = 0\n",
    "        for cls in class_labels:\n",
    "            p_cls = len(y[y == cls]) / len(y)\n",
    "            entropy += -p_cls * np.log2(p_cls)\n",
    "        return entropy\n",
    "\n",
    "    def gini_index(self, y):\n",
    "\n",
    "        class_labels = np.unique(y)\n",
    "        gini = 0\n",
    "        for cls in class_labels:\n",
    "            p_cls = len(y[y == cls]) / len(y)\n",
    "            gini += p_cls**2\n",
    "        return 1 - gini\n",
    "\n",
    "    def calculate_leaf_value(self, Y):\n",
    "        Y = list(Y)\n",
    "        return max(Y, key=Y.count)\n",
    "\n",
    "    def print_tree(self, tree=None, indent=\" \"):\n",
    "\n",
    "        if not tree:\n",
    "            tree = self.root\n",
    "\n",
    "        if tree.value is not None:\n",
    "            print(tree.value)\n",
    "\n",
    "        else:\n",
    "            print(\"X_\"+str(tree.feature_index), \"<=\",\n",
    "                  tree.threshold, \"?\", tree.info_gain)\n",
    "            print(\"%sleft:\" % (indent), end=\"\")\n",
    "            self.print_tree(tree.left, indent + indent)\n",
    "            print(\"%sright:\" % (indent), end=\"\")\n",
    "            self.print_tree(tree.right, indent + indent)\n",
    "\n",
    "    def fit(self, X, Y):\n",
    "        dataset = np.concatenate((X, Y), axis=1)\n",
    "        self.root = self.build_tree(dataset)\n",
    "\n",
    "    def predict(self, X):\n",
    "        preditions = [self.make_prediction(x, self.root) for x in X]\n",
    "        return preditions\n",
    "\n",
    "    def make_prediction(self, x, tree):\n",
    "\n",
    "        if tree.value != None:\n",
    "            return tree.value\n",
    "        feature_val = x[tree.feature_index]\n",
    "        if feature_val <= tree.threshold:\n",
    "            return self.make_prediction(x, tree.left)\n",
    "        else:\n",
    "            return self.make_prediction(x, tree.right)\n"
   ]
  },
  {
   "cell_type": "code",
   "execution_count": 732,
   "metadata": {},
   "outputs": [
    {
     "data": {
      "text/html": [
       "<div>\n",
       "<style scoped>\n",
       "    .dataframe tbody tr th:only-of-type {\n",
       "        vertical-align: middle;\n",
       "    }\n",
       "\n",
       "    .dataframe tbody tr th {\n",
       "        vertical-align: top;\n",
       "    }\n",
       "\n",
       "    .dataframe thead th {\n",
       "        text-align: right;\n",
       "    }\n",
       "</style>\n",
       "<table border=\"1\" class=\"dataframe\">\n",
       "  <thead>\n",
       "    <tr style=\"text-align: right;\">\n",
       "      <th></th>\n",
       "      <th>size</th>\n",
       "      <th>weight</th>\n",
       "      <th>skincolor</th>\n",
       "      <th>target</th>\n",
       "    </tr>\n",
       "  </thead>\n",
       "  <tbody>\n",
       "    <tr>\n",
       "      <th>0</th>\n",
       "      <td>35</td>\n",
       "      <td>0.571539</td>\n",
       "      <td>139</td>\n",
       "      <td>0</td>\n",
       "    </tr>\n",
       "    <tr>\n",
       "      <th>1</th>\n",
       "      <td>23</td>\n",
       "      <td>5.348117</td>\n",
       "      <td>184</td>\n",
       "      <td>0</td>\n",
       "    </tr>\n",
       "    <tr>\n",
       "      <th>2</th>\n",
       "      <td>38</td>\n",
       "      <td>3.419377</td>\n",
       "      <td>126</td>\n",
       "      <td>0</td>\n",
       "    </tr>\n",
       "    <tr>\n",
       "      <th>3</th>\n",
       "      <td>34</td>\n",
       "      <td>3.323665</td>\n",
       "      <td>137</td>\n",
       "      <td>0</td>\n",
       "    </tr>\n",
       "    <tr>\n",
       "      <th>4</th>\n",
       "      <td>34</td>\n",
       "      <td>1.453573</td>\n",
       "      <td>198</td>\n",
       "      <td>0</td>\n",
       "    </tr>\n",
       "  </tbody>\n",
       "</table>\n",
       "</div>"
      ],
      "text/plain": [
       "   size    weight  skincolor  target\n",
       "0    35  0.571539        139       0\n",
       "1    23  5.348117        184       0\n",
       "2    38  3.419377        126       0\n",
       "3    34  3.323665        137       0\n",
       "4    34  1.453573        198       0"
      ]
     },
     "execution_count": 732,
     "metadata": {},
     "output_type": "execute_result"
    }
   ],
   "source": [
    "df = pd.read_csv('data-ques-3\\dataset.csv')\n",
    "df.head()\n"
   ]
  },
  {
   "cell_type": "code",
   "execution_count": 733,
   "metadata": {},
   "outputs": [],
   "source": [
    "target = df['target']\n",
    "df1 = df.copy()\n",
    "df1 = df1.drop('target', axis=1)\n"
   ]
  },
  {
   "cell_type": "code",
   "execution_count": 734,
   "metadata": {},
   "outputs": [
    {
     "name": "stdout",
     "output_type": "stream",
     "text": [
      "Training split input-  (150, 3)\n",
      "Training split input-  (150,)\n",
      "Testing split input-  (50, 3)\n",
      "Testing split input-  (50,)\n",
      "     size    weight  skincolor\n",
      "109    24  0.739054        190\n",
      "161    17  0.689787        162\n",
      "142    21  0.692038        295\n",
      "168    18  0.616260        287\n",
      "61     26  5.869238        161\n",
      "109    1\n",
      "161    1\n",
      "142    1\n",
      "168    1\n",
      "61     0\n",
      "Name: target, dtype: int64\n"
     ]
    }
   ],
   "source": [
    "# Splitting the data - 80:20 ratio\n",
    "X_train, X_test, y_train, y_test = train_test_split(\n",
    "    df1, target, train_size=0.75, random_state=80)\n",
    "print(\"Training split input- \", X_train.shape)\n",
    "print(\"Training split input- \", y_train.shape)\n",
    "print(\"Testing split input- \", X_test.shape)\n",
    "print(\"Testing split input- \", y_test.shape)\n",
    "print(X_train.head())\n",
    "print(y_train.head())\n"
   ]
  },
  {
   "cell_type": "code",
   "execution_count": 735,
   "metadata": {},
   "outputs": [
    {
     "name": "stdout",
     "output_type": "stream",
     "text": [
      "Decision Tree Classifier Created\n"
     ]
    }
   ],
   "source": [
    "# Defining the decision tree algorithm\n",
    "dtree = DecisionTreeClassifier(min_samples_split=3, max_depth=5)\n",
    "dtree.fit(X_train.values, y_train.values.reshape(-1, 1))\n",
    "print('Decision Tree Classifier Created')\n"
   ]
  },
  {
   "cell_type": "code",
   "execution_count": 736,
   "metadata": {},
   "outputs": [
    {
     "name": "stdout",
     "output_type": "stream",
     "text": [
      "Classification report - \n",
      "               precision    recall  f1-score   support\n",
      "\n",
      "           0       0.95      1.00      0.97        18\n",
      "           1       1.00      0.97      0.98        32\n",
      "\n",
      "    accuracy                           0.98        50\n",
      "   macro avg       0.97      0.98      0.98        50\n",
      "weighted avg       0.98      0.98      0.98        50\n",
      "\n"
     ]
    }
   ],
   "source": [
    "# Predicting the values of test data\n",
    "y_pred = dtree.predict(X_test.values)\n",
    "print(\"Classification report - \\n\",\n",
    "      classification_report(y_test.values.reshape(-1, 1), y_pred))\n"
   ]
  },
  {
   "cell_type": "code",
   "execution_count": 737,
   "metadata": {},
   "outputs": [
    {
     "name": "stdout",
     "output_type": "stream",
     "text": [
      "[[31  1]\n",
      " [ 0 18]]\n"
     ]
    },
    {
     "data": {
      "text/plain": [
       "Text(0.5, 1.0, 'Accuracy Score: 0.98')"
      ]
     },
     "execution_count": 737,
     "metadata": {},
     "output_type": "execute_result"
    },
    {
     "data": {
      "image/png": "[encoded data removed]",
      "text/plain": [
       "<Figure size 360x360 with 2 Axes>"
      ]
     },
     "metadata": {
      "needs_background": "light"
     },
     "output_type": "display_data"
    }
   ],
   "source": [
    "cm = confusion_matrix(y_test.values.reshape(-1, 1), y_pred)\n",
    "print(cm)\n",
    "plt.figure(figsize=(5, 5))\n",
    "sns.heatmap(data=cm, linewidths=.5, annot=True, square=True,  cmap='Blues')\n",
    "plt.ylabel('Actual label')\n",
    "plt.xlabel('Predicted label')\n",
    "x = (cm[0, 0]+cm[1, 1])/sum(cm.flatten())\n",
    "all_sample_title = 'Accuracy Score: {0}'.format(x)\n",
    "plt.title(all_sample_title, size=15)\n"
   ]
  },
  {
   "cell_type": "code",
   "execution_count": 738,
   "metadata": {},
   "outputs": [
    {
     "name": "stdout",
     "output_type": "stream",
     "text": [
      "X_1 <= 0.865816898 ? 0.3408476964769649\n",
      " left:X_0 <= 25.0 ? 0.1695663866094057\n",
      "  left:X_0 <= 15.0 ? 0.02410291695335795\n",
      "    left:0.0\n",
      "    right:X_2 <= 111.0 ? 0.025126065032168327\n",
      "        left:0.0\n",
      "        right:X_0 <= 23.0 ? 0.003983697318353158\n",
      "                left:X_1 <= 0.369486225 ? 0.0014778804083617064\n",
      "                                left:1.0\n",
      "                                right:1.0\n",
      "                right:X_2 <= 193.0 ? 0.040178571428571425\n",
      "                                left:1.0\n",
      "                                right:1.0\n",
      "  right:0.0\n",
      " right:0.0\n"
     ]
    }
   ],
   "source": [
    "#Visualize Tree\n",
    "dtree.print_tree()"
   ]
  },
  {
   "cell_type": "code",
   "execution_count": 742,
   "metadata": {},
   "outputs": [],
   "source": [
    "def testWithHyperParameter(min_samples_split=3, max_depth=10,train_size=0.8, random_state=80,log=True):\n",
    "    X_train, X_test, y_train, y_test = train_test_split(\n",
    "    df1, target, train_size=train_size, random_state=random_state)\n",
    "    dtree = DecisionTreeClassifier(min_samples_split=min_samples_split, max_depth=max_depth)\n",
    "    dtree.fit(X_train.values, y_train.values.reshape(-1, 1))\n",
    "    if log:\n",
    "        print('Decision Tree Classifier Created with min_samples_split={0}, max_depth={1},train_size={2}, random_state={3}'.format(min_samples_split, max_depth,train_size, random_state))\n",
    "    y_pred = dtree.predict(X_test.values)\n",
    "    cm = confusion_matrix(y_test.values.reshape(-1, 1), y_pred)\n",
    "    x = (cm[0, 0]+cm[1, 1])/sum(cm.flatten())\n",
    "    if log:\n",
    "        print('Accuracy Score: {0}'.format(x)) \n",
    "        print('Confusion Matrix: \\n{0}'.format(cm)) \n",
    "        print(\"Classification report - \\n\",\n",
    "        classification_report(y_test.values.reshape(-1, 1), y_pred))\n",
    "    return x"
   ]
  },
  {
   "cell_type": "code",
   "execution_count": 743,
   "metadata": {},
   "outputs": [
    {
     "name": "stdout",
     "output_type": "stream",
     "text": [
      "Decision Tree Classifier Created with min_samples_split=3, max_depth=3,train_size=0.1, random_state=80\n",
      "Accuracy Score: 0.8944444444444445\n",
      "Confusion Matrix: \n",
      "[[78 15]\n",
      " [ 4 83]]\n",
      "Classification report - \n",
      "               precision    recall  f1-score   support\n",
      "\n",
      "           0       0.85      0.95      0.90        87\n",
      "           1       0.95      0.84      0.89        93\n",
      "\n",
      "    accuracy                           0.89       180\n",
      "   macro avg       0.90      0.90      0.89       180\n",
      "weighted avg       0.90      0.89      0.89       180\n",
      "\n",
      "Decision Tree Classifier Created with min_samples_split=3, max_depth=3,train_size=0.5, random_state=80\n",
      "Accuracy Score: 0.96\n",
      "Confusion Matrix: \n",
      "[[54  1]\n",
      " [ 3 42]]\n",
      "Classification report - \n",
      "               precision    recall  f1-score   support\n",
      "\n",
      "           0       0.98      0.93      0.95        45\n",
      "           1       0.95      0.98      0.96        55\n",
      "\n",
      "    accuracy                           0.96       100\n",
      "   macro avg       0.96      0.96      0.96       100\n",
      "weighted avg       0.96      0.96      0.96       100\n",
      "\n",
      "Decision Tree Classifier Created with min_samples_split=3, max_depth=5,train_size=0.6, random_state=80\n",
      "Accuracy Score: 0.95\n",
      "Confusion Matrix: \n",
      "[[43  2]\n",
      " [ 2 33]]\n",
      "Classification report - \n",
      "               precision    recall  f1-score   support\n",
      "\n",
      "           0       0.94      0.94      0.94        35\n",
      "           1       0.96      0.96      0.96        45\n",
      "\n",
      "    accuracy                           0.95        80\n",
      "   macro avg       0.95      0.95      0.95        80\n",
      "weighted avg       0.95      0.95      0.95        80\n",
      "\n",
      "Decision Tree Classifier Created with min_samples_split=5, max_depth=5,train_size=0.75, random_state=80\n",
      "Accuracy Score: 0.98\n",
      "Confusion Matrix: \n",
      "[[31  1]\n",
      " [ 0 18]]\n",
      "Classification report - \n",
      "               precision    recall  f1-score   support\n",
      "\n",
      "           0       0.95      1.00      0.97        18\n",
      "           1       1.00      0.97      0.98        32\n",
      "\n",
      "    accuracy                           0.98        50\n",
      "   macro avg       0.97      0.98      0.98        50\n",
      "weighted avg       0.98      0.98      0.98        50\n",
      "\n",
      "Decision Tree Classifier Created with min_samples_split=5, max_depth=10,train_size=0.9, random_state=80\n",
      "Accuracy Score: 0.95\n",
      "Confusion Matrix: \n",
      "[[13  1]\n",
      " [ 0  6]]\n",
      "Classification report - \n",
      "               precision    recall  f1-score   support\n",
      "\n",
      "           0       0.86      1.00      0.92         6\n",
      "           1       1.00      0.93      0.96        14\n",
      "\n",
      "    accuracy                           0.95        20\n",
      "   macro avg       0.93      0.96      0.94        20\n",
      "weighted avg       0.96      0.95      0.95        20\n",
      "\n"
     ]
    },
    {
     "data": {
      "text/plain": [
       "0.95"
      ]
     },
     "execution_count": 743,
     "metadata": {},
     "output_type": "execute_result"
    }
   ],
   "source": [
    "testWithHyperParameter(min_samples_split=3, max_depth=3,train_size=0.1)\n",
    "testWithHyperParameter(min_samples_split=3, max_depth=3,train_size=0.5)\n",
    "testWithHyperParameter(min_samples_split=3, max_depth=5,train_size=0.6)\n",
    "testWithHyperParameter(min_samples_split=5, max_depth=5,train_size=0.75)\n",
    "testWithHyperParameter(min_samples_split=5, max_depth=10,train_size=0.9)\n"
   ]
  },
  {
   "cell_type": "code",
   "execution_count": 765,
   "metadata": {},
   "outputs": [
    {
     "data": {
      "image/png": "[encoded data removed]",
      "text/plain": [
       "<Figure size 432x288 with 1 Axes>"
      ]
     },
     "metadata": {
      "needs_background": "light"
     },
     "output_type": "display_data"
    }
   ],
   "source": [
    "train_size = []\n",
    "for i in range(1,20):\n",
    "    x = i/20\n",
    "    y = testWithHyperParameter(min_samples_split=3, max_depth=5,train_size=x, random_state=47,log=False)\n",
    "    train_size.append([x,y])\n",
    "train_size=np.array(train_size)\n",
    "plt.plot(train_size[:,0], train_size[:,1], label=\"train_size\", marker='o')\n",
    "plt.xlabel(\"Training Size\")\n",
    "plt.ylabel(\"Accuracy\")\n",
    "plt.legend()\n",
    "plt.show()"
   ]
  }
 ],
 "metadata": {
  "interpreter": {
   "hash": "ac59ebe37160ed0dfa835113d9b8498d9f09ceb179beaac4002f036b9467c963"
  },
  "kernelspec": {
   "display_name": "Python 3.9.3 64-bit",
   "language": "python",
   "name": "python3"
  },
  "language_info": {
   "codemirror_mode": {
    "name": "ipython",
    "version": 3
   },
   "file_extension": ".py",
   "mimetype": "text/x-python",
   "name": "python",
   "nbconvert_exporter": "python",
   "pygments_lexer": "ipython3",
   "version": "3.9.3"
  },
  "orig_nbformat": 4
 },
 "nbformat": 4,
 "nbformat_minor": 2
}
