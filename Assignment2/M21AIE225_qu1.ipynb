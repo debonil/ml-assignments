{
 "cells": [
  {
   "cell_type": "code",
   "execution_count": 267,
   "metadata": {},
   "outputs": [],
   "source": [
    "\"\"\" \n",
    "Question 1:\n",
    "Download the dataset, where the first four columns are features, and the last column\n",
    "corresponds to categories (3 labels). Perform the following tasks.\n",
    "\"\"\"\n",
    "\n",
    "import numpy as np\n",
    "import pandas as pd\n"
   ]
  },
  {
   "cell_type": "code",
   "execution_count": 268,
   "metadata": {},
   "outputs": [],
   "source": [
    "class GaussianNBClassifierFromScratch():\n",
    "    def calcPrior(self, features: pd.DataFrame, target: pd.DataFrame):\n",
    "        self.prior = (features.groupby(target).apply(\n",
    "            lambda x: len(x)) / self.dataCount).to_numpy()\n",
    "        return self.prior\n",
    "\n",
    "    def calcStatistics(self, features: pd.DataFrame, target: pd.DataFrame):\n",
    "        self.mean = features.groupby(target).apply(np.mean).to_numpy()\n",
    "        self.var = features.groupby(target).apply(np.var).to_numpy()\n",
    "        return self.mean, self.var\n",
    "\n",
    "    def gaussianDensity(self, class_idx, x):\n",
    "        '''\n",
    "        (1/√2pi*σ) * exp((-1/2)*((x-μ)^2)/(2*σ²))\n",
    "        '''\n",
    "        mean = self.mean[class_idx]\n",
    "        var = self.var[class_idx]\n",
    "        numerator = np.exp((-1/2)*((x-mean)**2) / (2 * var))\n",
    "        denominator = np.sqrt(2 * np.pi * var)\n",
    "        prob = numerator / denominator\n",
    "        return prob\n",
    "\n",
    "    def calcPosterior(self, x):\n",
    "        posteriors = []\n",
    "\n",
    "        # calculate posterior probability for each class\n",
    "        for i in range(self.classCount):\n",
    "            prior = self.prior[i]\n",
    "            conditional = np.prod(self.gaussianDensity(i, x))\n",
    "\n",
    "            #print('posteriors for [{}], prob ==> [{}]'.format(x, self.gaussianDensity(i, x)))\n",
    "            #print('posteriors for [{}], cond ==> [{}]'.format(x, conditional))\n",
    "            posterior = prior * conditional\n",
    "            posteriors.append(posterior)\n",
    "\n",
    "        #print('posteriors for [{}]==> [{}]'.format(x, posteriors))\n",
    "        return posteriors\n",
    "\n",
    "    def fit(self, features: pd.DataFrame, target: pd.DataFrame):\n",
    "        self.classes = np.unique(target)\n",
    "        self.classCount = len(self.classes)\n",
    "        self.featureCount = features.shape[1]\n",
    "        self.dataCount = features.shape[0]\n",
    "\n",
    "        self.calcStatistics(features, target)\n",
    "        self.calcPrior(features, target)\n",
    "\n",
    "        print('GaussianNBClassifier trained :')\n",
    "        print('\\t mean ==> {}'.format(self.mean))\n",
    "        print('\\t var ==> {}'.format(self.var))\n",
    "        print('\\t prior ==> {}'.format(self.prior))\n",
    "\n",
    "    def predict(self, features):\n",
    "        classProbabilities = self.predictProbabilities(features)\n",
    "        # return class with highest posterior probability\n",
    "        return np.array([self.classes[np.argmax(cp)] for cp in classProbabilities])\n",
    "\n",
    "    def predictProbabilities(self, features):\n",
    "\n",
    "        return np.array([self.calcPosterior(f) for f in features.to_numpy()])\n"
   ]
  },
  {
   "cell_type": "code",
   "execution_count": 269,
   "metadata": {},
   "outputs": [],
   "source": [
    "\n",
    "from sklearn import metrics\n",
    "import matplotlib.pyplot as plt\n",
    "import seaborn as sns\n",
    "sns.set(rc={'axes.facecolor': 'lightblue', 'figure.facecolor': 'lightblue'})\n",
    "\n",
    "\n",
    "def confusionMatrixAndAccuracyReport(Y_test, Y_pred):\n",
    "    cm = metrics.confusion_matrix(Y_test, Y_pred)\n",
    "    overallAccuracy = np.trace(cm)/sum(cm.flatten())\n",
    "\n",
    "    classwiseAccuracy = np.zeros(len(cm))\n",
    "    for n in range(len(cm)):\n",
    "        for i in range(len(cm)):\n",
    "            for j in range(len(cm)):\n",
    "                if (i != n and j != n) or (i == n and j == n):\n",
    "                    classwiseAccuracy[n] += cm[i][j]\n",
    "\n",
    "    classwiseAccuracy /= sum(cm.flatten())\n",
    "\n",
    "    plt.figure(figsize=(6, 6))\n",
    "    plt.title('Accuracy Score: {0:3.3f}'.format(overallAccuracy), size=12)\n",
    "    plt.ylabel('Actual label')\n",
    "    plt.xlabel('Predicted label')\n",
    "    sns.heatmap(data=cm, annot=True, square=True,  cmap='Blues')\n",
    "\n",
    "    plt.show()\n",
    "    print('Overall Accuracy Score: {0:3.3f}'.format(overallAccuracy))\n",
    "    print('Classwise Accuracy Score: {0}'.format(classwiseAccuracy))\n"
   ]
  },
  {
   "cell_type": "code",
   "execution_count": 270,
   "metadata": {},
   "outputs": [],
   "source": [
    "def rocCurveAndAucAnalysis(y_test, y_score):\n",
    "    n_classes = y_test.shape[1]\n",
    "    fpr = dict()\n",
    "    tpr = dict()\n",
    "    roc_auc = dict()\n",
    "    for i in range(n_classes):\n",
    "        fpr[i], tpr[i], _ = metrics.roc_curve(y_test[:, i], y_score[:, i])\n",
    "        roc_auc[i] = metrics.auc(fpr[i], tpr[i])\n",
    "\n",
    "    plt.title(\"ROC Curve\")\n",
    "    plt.plot([0, 1], [0, 1], linestyle='--', lw=2,\n",
    "             color='r', label='Random', alpha=.8)\n",
    "\n",
    "    colors = [\"aqua\", \"darkorange\", \"cornflowerblue\"]\n",
    "    for i, color in zip(range(n_classes), colors):\n",
    "        plt.plot(\n",
    "            fpr[i],\n",
    "            tpr[i],\n",
    "            color=color,\n",
    "            lw=2,\n",
    "            label=\"ROC curve of class {0} (area = {1:0.2f})\".format(\n",
    "                i, roc_auc[i]),\n",
    "        )\n",
    "\n",
    "    plt.xlabel(\"False Positve Rate\")\n",
    "    plt.ylabel(\"True Positive Rate\")\n",
    "    plt.legend()\n",
    "    plt.show()\n",
    "\n",
    "    for i in range(n_classes):\n",
    "        print(\"Area Under the curve for class {} : {}\".format(i, roc_auc[i]))\n"
   ]
  },
  {
   "cell_type": "code",
   "execution_count": 271,
   "metadata": {},
   "outputs": [
    {
     "data": {
      "text/html": [
       "<div>\n",
       "<style scoped>\n",
       "    .dataframe tbody tr th:only-of-type {\n",
       "        vertical-align: middle;\n",
       "    }\n",
       "\n",
       "    .dataframe tbody tr th {\n",
       "        vertical-align: top;\n",
       "    }\n",
       "\n",
       "    .dataframe thead th {\n",
       "        text-align: right;\n",
       "    }\n",
       "</style>\n",
       "<table border=\"1\" class=\"dataframe\">\n",
       "  <thead>\n",
       "    <tr style=\"text-align: right;\">\n",
       "      <th></th>\n",
       "      <th>sepal.length</th>\n",
       "      <th>sepal.width</th>\n",
       "      <th>petal.length</th>\n",
       "      <th>petal.width</th>\n",
       "      <th>variety</th>\n",
       "    </tr>\n",
       "  </thead>\n",
       "  <tbody>\n",
       "    <tr>\n",
       "      <th>0</th>\n",
       "      <td>5.1</td>\n",
       "      <td>3.5</td>\n",
       "      <td>1.4</td>\n",
       "      <td>0.2</td>\n",
       "      <td>Setosa</td>\n",
       "    </tr>\n",
       "    <tr>\n",
       "      <th>1</th>\n",
       "      <td>4.9</td>\n",
       "      <td>3.0</td>\n",
       "      <td>1.4</td>\n",
       "      <td>0.2</td>\n",
       "      <td>Setosa</td>\n",
       "    </tr>\n",
       "    <tr>\n",
       "      <th>2</th>\n",
       "      <td>4.7</td>\n",
       "      <td>3.2</td>\n",
       "      <td>1.3</td>\n",
       "      <td>0.2</td>\n",
       "      <td>Setosa</td>\n",
       "    </tr>\n",
       "    <tr>\n",
       "      <th>3</th>\n",
       "      <td>4.6</td>\n",
       "      <td>3.1</td>\n",
       "      <td>1.5</td>\n",
       "      <td>0.2</td>\n",
       "      <td>Setosa</td>\n",
       "    </tr>\n",
       "    <tr>\n",
       "      <th>4</th>\n",
       "      <td>5.0</td>\n",
       "      <td>3.6</td>\n",
       "      <td>1.4</td>\n",
       "      <td>0.2</td>\n",
       "      <td>Setosa</td>\n",
       "    </tr>\n",
       "  </tbody>\n",
       "</table>\n",
       "</div>"
      ],
      "text/plain": [
       "   sepal.length  sepal.width  petal.length  petal.width variety\n",
       "0           5.1          3.5           1.4          0.2  Setosa\n",
       "1           4.9          3.0           1.4          0.2  Setosa\n",
       "2           4.7          3.2           1.3          0.2  Setosa\n",
       "3           4.6          3.1           1.5          0.2  Setosa\n",
       "4           5.0          3.6           1.4          0.2  Setosa"
      ]
     },
     "execution_count": 271,
     "metadata": {},
     "output_type": "execute_result"
    }
   ],
   "source": [
    "# Data load\n",
    "\n",
    "data = pd.read_csv('data-ques-1/iris_dataset.csv')\n",
    "data.head()\n"
   ]
  },
  {
   "cell_type": "code",
   "execution_count": 272,
   "metadata": {},
   "outputs": [
    {
     "name": "stdout",
     "output_type": "stream",
     "text": [
      "Given data set==> (150, 5)\n",
      "Train data set==> (120, 4)\n",
      "Test data set==> (30, 4)\n"
     ]
    }
   ],
   "source": [
    "\n",
    "# 1. Split the dataset into train and test sets (80:20)\n",
    "\n",
    "from sklearn.preprocessing import label_binarize\n",
    "from sklearn.model_selection import train_test_split\n",
    "\n",
    "X = data.drop(\"variety\", axis=1)\n",
    "Y = data[\"variety\"]\n",
    "X_train, X_test, Y_train, Y_test = train_test_split(\n",
    "    X, Y, test_size=0.2, random_state=23)\n",
    "\n",
    "\n",
    "print('Given data set==> {}'.format(data.shape))\n",
    "print('Train data set==> {}'.format(X_train.shape))\n",
    "print('Test data set==> {}'.format(X_test.shape))\n",
    "# for use in roc analysis\n",
    "y_test_bin = label_binarize(Y_test, classes=np.unique(Y_test))\n"
   ]
  },
  {
   "cell_type": "code",
   "execution_count": 273,
   "metadata": {},
   "outputs": [
    {
     "name": "stdout",
     "output_type": "stream",
     "text": [
      "GaussianNBClassifier trained :\n",
      "\t mean ==> [[4.98157895 3.41578947 1.43684211 0.24473684]\n",
      " [5.89761905 2.74761905 4.24285714 1.33095238]\n",
      " [6.57       2.9725     5.5725     2.03      ]]\n",
      "\t var ==> [[0.12781856 0.1565928  0.02811634 0.01299861]\n",
      " [0.26451814 0.10344671 0.22244898 0.03975624]\n",
      " [0.4181     0.11649375 0.32799375 0.0741    ]]\n",
      "\t prior ==> [0.31666667 0.35       0.33333333]\n"
     ]
    }
   ],
   "source": [
    "\n",
    "# 2. Construct the Naive Bayes classifier from scratch and train it on the train set. Assume Gaussian distribution to compute probabilities.\n",
    "\n",
    "modelFromScratch = GaussianNBClassifierFromScratch()\n",
    "modelFromScratch.fit(X_train, Y_train)\n",
    "Y_pred = modelFromScratch.predict(X_test)\n",
    "y_score = modelFromScratch.predictProbabilities(X_test)\n"
   ]
  },
  {
   "cell_type": "code",
   "execution_count": 274,
   "metadata": {},
   "outputs": [
    {
     "data": {
      "image/png": "[encoded data removed]",
      "text/plain": [
       "<Figure size 432x432 with 2 Axes>"
      ]
     },
     "metadata": {},
     "output_type": "display_data"
    },
    {
     "name": "stdout",
     "output_type": "stream",
     "text": [
      "Overall Accuracy Score: 0.967\n",
      "Classwise Accuracy Score: [1.         0.96666667 0.96666667]\n"
     ]
    },
    {
     "data": {
      "image/png": "[encoded data removed]",
      "text/plain": [
       "<Figure size 432x288 with 1 Axes>"
      ]
     },
     "metadata": {},
     "output_type": "display_data"
    },
    {
     "name": "stdout",
     "output_type": "stream",
     "text": [
      "Area Under the curve for class 0 : 1.0\n",
      "Area Under the curve for class 1 : 0.9886363636363636\n",
      "Area Under the curve for class 2 : 1.0\n"
     ]
    }
   ],
   "source": [
    "'''\n",
    "3. Evaluate the performance using the following metric on the test set\n",
    "    a. Confusion matrix\n",
    "    b. Overall and class-wise accuracy\n",
    "    c. ROC curve, AUC\n",
    "'''\n",
    "confusionMatrixAndAccuracyReport(Y_test, Y_pred)\n",
    "\n",
    "rocCurveAndAucAnalysis(y_test_bin, y_score)\n"
   ]
  },
  {
   "cell_type": "code",
   "execution_count": 275,
   "metadata": {},
   "outputs": [
    {
     "data": {
      "image/png": "[encoded data removed]",
      "text/plain": [
       "<Figure size 432x432 with 2 Axes>"
      ]
     },
     "metadata": {},
     "output_type": "display_data"
    },
    {
     "name": "stdout",
     "output_type": "stream",
     "text": [
      "Overall Accuracy Score: 0.933\n",
      "Classwise Accuracy Score: [1.         0.93333333 0.93333333]\n"
     ]
    },
    {
     "data": {
      "image/png": "[encoded data removed]",
      "text/plain": [
       "<Figure size 432x288 with 1 Axes>"
      ]
     },
     "metadata": {},
     "output_type": "display_data"
    },
    {
     "name": "stdout",
     "output_type": "stream",
     "text": [
      "Area Under the curve for class 0 : 1.0\n",
      "Area Under the curve for class 1 : 0.9943181818181819\n",
      "Area Under the curve for class 2 : 0.995\n"
     ]
    }
   ],
   "source": [
    "\n",
    "# 4. Use any library (e.g. scikit-learn) and repeat 1 to 3\n",
    "\n",
    "from sklearn.naive_bayes import GaussianNB\n",
    "model = GaussianNB()\n",
    "model.fit(X_train, Y_train)\n",
    "Y_pred_lib = model.predict(X_test)\n",
    "y_score_lib = model.predict_proba(X_test)\n",
    "\n",
    "\n",
    "confusionMatrixAndAccuracyReport(Y_test, Y_pred_lib)\n",
    "\n",
    "rocCurveAndAucAnalysis(y_test_bin, y_score_lib)\n"
   ]
  },
  {
   "cell_type": "code",
   "execution_count": 278,
   "metadata": {},
   "outputs": [],
   "source": [
    "def calculateBayesRisk(lossMatrix, class_prob):\n",
    "    no_of_classses = len(class_prob)\n",
    "    alpha = np.zeros([no_of_classses,no_of_classses])\n",
    "    for x in range(no_of_classses):\n",
    "        for r in range(no_of_classses):\n",
    "            alpha[x][r]=((lossMatrix[x][r] * 1 * class_prob[r])/class_prob[r])\n",
    "\n",
    "    max_r = np.argmax(alpha,axis=0)\n",
    "\n",
    "    for x in range(no_of_classses):\n",
    "        print(\n",
    "        f\"The optimized value of r_x{x+1} is R{max_r[x]+1}_alpha_x{x+1} which is {alpha[x][max_r[x]]}\")\n",
    "\n",
    "    risk = 0\n",
    "    for x in range(no_of_classses):\n",
    "        risk+= class_prob[x]*alpha[x][max_r[x]]\n",
    "\n",
    "    return risk\n"
   ]
  },
  {
   "cell_type": "code",
   "execution_count": 279,
   "metadata": {},
   "outputs": [
    {
     "name": "stdout",
     "output_type": "stream",
     "text": [
      "The optimized value of r_x1 is R3_alpha_x1 which is 6.0\n",
      "The optimized value of r_x2 is R3_alpha_x2 which is 4.0\n",
      "The optimized value of r_x3 is R1_alpha_x3 which is 6.0\n",
      "bayes risk 5.3000\n"
     ]
    }
   ],
   "source": [
    "\"\"\" \n",
    "6. Calculate the Bayes risk.\n",
    "    Consider,\n",
    "    λ =\n",
    "        2 4 6\n",
    "        1 2 3\n",
    "        6 4 1\n",
    "\n",
    "    Where λ is a loss function and rows and columns corresponds to classes (ci) and actions (aj) respectively, e.g. λ(a3/ c2) =4.\n",
    " \"\"\"\n",
    "lambda_ = np.array(\n",
    "    [[2, 1, 6],\n",
    "     [4, 2, 4],\n",
    "     [6, 3, 1]]\n",
    ")\n",
    "\n",
    "\n",
    "bayes_risk = calculateBayesRisk(lambda_, modelFromScratch.prior)\n",
    "print(f\"bayes risk {bayes_risk:.4f}\")\n"
   ]
  }
 ],
 "metadata": {
  "interpreter": {
   "hash": "ac59ebe37160ed0dfa835113d9b8498d9f09ceb179beaac4002f036b9467c963"
  },
  "kernelspec": {
   "display_name": "Python 3.9.3 64-bit",
   "language": "python",
   "name": "python3"
  },
  "language_info": {
   "codemirror_mode": {
    "name": "ipython",
    "version": 3
   },
   "file_extension": ".py",
   "mimetype": "text/x-python",
   "name": "python",
   "nbconvert_exporter": "python",
   "pygments_lexer": "ipython3",
   "version": "3.9.3"
  },
  "orig_nbformat": 4
 },
 "nbformat": 4,
 "nbformat_minor": 2
}
