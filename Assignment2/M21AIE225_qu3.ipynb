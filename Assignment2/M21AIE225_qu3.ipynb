{
 "cells": [
  {
   "cell_type": "markdown",
   "metadata": {},
   "source": [
    "#### Question 3:\n",
    "Download the dataset containing two columns X and Y. Fix an appropriate threshold and consider Y > threshold as 1 otherwise 0. Perform the following tasks.\n",
    "#\n",
    "    1. Create the labels from the given data.\n",
    "    2. Plot the distribution of samples using the histogram.\n",
    "    3. Determine the prior probability for both classes.\n",
    "    4. Determine the class conditional probabilities (likelihood) for the classes.\n",
    "    5. Plot the count of each unique element for each class.\n",
    "    6. Calculate the posterior probability of both classes and plot them.\n",
    "    7. Consider the dataset of question 1 and select any one feature and class label. Repeat\n",
    "    1 to 6.\n"
   ]
  },
  {
   "cell_type": "markdown",
   "metadata": {},
   "source": [
    "- Data load"
   ]
  },
  {
   "cell_type": "code",
   "execution_count": 117,
   "metadata": {},
   "outputs": [
    {
     "data": {
      "text/html": [
       "<div>\n",
       "<style scoped>\n",
       "    .dataframe tbody tr th:only-of-type {\n",
       "        vertical-align: middle;\n",
       "    }\n",
       "\n",
       "    .dataframe tbody tr th {\n",
       "        vertical-align: top;\n",
       "    }\n",
       "\n",
       "    .dataframe thead th {\n",
       "        text-align: right;\n",
       "    }\n",
       "</style>\n",
       "<table border=\"1\" class=\"dataframe\">\n",
       "  <thead>\n",
       "    <tr style=\"text-align: right;\">\n",
       "      <th></th>\n",
       "      <th>X</th>\n",
       "      <th>Y</th>\n",
       "    </tr>\n",
       "  </thead>\n",
       "  <tbody>\n",
       "    <tr>\n",
       "      <th>0</th>\n",
       "      <td>1.0</td>\n",
       "      <td>550</td>\n",
       "    </tr>\n",
       "    <tr>\n",
       "      <th>1</th>\n",
       "      <td>3.0</td>\n",
       "      <td>566</td>\n",
       "    </tr>\n",
       "    <tr>\n",
       "      <th>2</th>\n",
       "      <td>4.0</td>\n",
       "      <td>558</td>\n",
       "    </tr>\n",
       "    <tr>\n",
       "      <th>3</th>\n",
       "      <td>3.0</td>\n",
       "      <td>784</td>\n",
       "    </tr>\n",
       "    <tr>\n",
       "      <th>4</th>\n",
       "      <td>5.0</td>\n",
       "      <td>333</td>\n",
       "    </tr>\n",
       "  </tbody>\n",
       "</table>\n",
       "</div>"
      ],
      "text/plain": [
       "     X    Y\n",
       "0  1.0  550\n",
       "1  3.0  566\n",
       "2  4.0  558\n",
       "3  3.0  784\n",
       "4  5.0  333"
      ]
     },
     "execution_count": 117,
     "metadata": {},
     "output_type": "execute_result"
    }
   ],
   "source": [
    "import numpy as np\n",
    "import pandas as pd\n",
    "data = pd.read_csv('data-ques-3/Data.csv')\n",
    "data.head()\n"
   ]
  },
  {
   "cell_type": "markdown",
   "metadata": {},
   "source": [
    "1. Create the labels from the given data."
   ]
  },
  {
   "cell_type": "code",
   "execution_count": 118,
   "metadata": {},
   "outputs": [
    {
     "data": {
      "text/plain": [
       "<AxesSubplot:>"
      ]
     },
     "execution_count": 118,
     "metadata": {},
     "output_type": "execute_result"
    },
    {
     "data": {
      "image/png": "[encoded data removed]",
      "text/plain": [
       "<Figure size 432x288 with 1 Axes>"
      ]
     },
     "metadata": {
      "needs_background": "light"
     },
     "output_type": "display_data"
    }
   ],
   "source": [
    "data['Y'].hist()\n"
   ]
  },
  {
   "cell_type": "markdown",
   "metadata": {},
   "source": [
    "Choosen thresold 700 as there were clear division in histogram at y = 700"
   ]
  },
  {
   "cell_type": "code",
   "execution_count": 119,
   "metadata": {},
   "outputs": [
    {
     "data": {
      "text/html": [
       "<div>\n",
       "<style scoped>\n",
       "    .dataframe tbody tr th:only-of-type {\n",
       "        vertical-align: middle;\n",
       "    }\n",
       "\n",
       "    .dataframe tbody tr th {\n",
       "        vertical-align: top;\n",
       "    }\n",
       "\n",
       "    .dataframe thead th {\n",
       "        text-align: right;\n",
       "    }\n",
       "</style>\n",
       "<table border=\"1\" class=\"dataframe\">\n",
       "  <thead>\n",
       "    <tr style=\"text-align: right;\">\n",
       "      <th></th>\n",
       "      <th>X</th>\n",
       "      <th>Y</th>\n",
       "      <th>label</th>\n",
       "    </tr>\n",
       "  </thead>\n",
       "  <tbody>\n",
       "    <tr>\n",
       "      <th>0</th>\n",
       "      <td>1.0</td>\n",
       "      <td>550</td>\n",
       "      <td>0</td>\n",
       "    </tr>\n",
       "    <tr>\n",
       "      <th>1</th>\n",
       "      <td>3.0</td>\n",
       "      <td>566</td>\n",
       "      <td>0</td>\n",
       "    </tr>\n",
       "    <tr>\n",
       "      <th>2</th>\n",
       "      <td>4.0</td>\n",
       "      <td>558</td>\n",
       "      <td>0</td>\n",
       "    </tr>\n",
       "    <tr>\n",
       "      <th>3</th>\n",
       "      <td>3.0</td>\n",
       "      <td>784</td>\n",
       "      <td>1</td>\n",
       "    </tr>\n",
       "    <tr>\n",
       "      <th>4</th>\n",
       "      <td>5.0</td>\n",
       "      <td>333</td>\n",
       "      <td>0</td>\n",
       "    </tr>\n",
       "  </tbody>\n",
       "</table>\n",
       "</div>"
      ],
      "text/plain": [
       "     X    Y  label\n",
       "0  1.0  550      0\n",
       "1  3.0  566      0\n",
       "2  4.0  558      0\n",
       "3  3.0  784      1\n",
       "4  5.0  333      0"
      ]
     },
     "execution_count": 119,
     "metadata": {},
     "output_type": "execute_result"
    }
   ],
   "source": [
    "data[\"label\"] = data.Y.apply(lambda x: 0 if x <= 700 else 1)\n",
    "data.head()\n"
   ]
  },
  {
   "cell_type": "markdown",
   "metadata": {},
   "source": [
    "2. Plot the distribution of samples using the histogram."
   ]
  },
  {
   "cell_type": "code",
   "execution_count": 120,
   "metadata": {},
   "outputs": [
    {
     "name": "stderr",
     "output_type": "stream",
     "text": [
      "C:\\Users\\debon\\AppData\\Roaming\\Python\\Python39\\site-packages\\pandas\\plotting\\_matplotlib\\tools.py:400: MatplotlibDeprecationWarning: \n",
      "The is_first_col function was deprecated in Matplotlib 3.4 and will be removed two minor releases later. Use ax.get_subplotspec().is_first_col() instead.\n",
      "  if ax.is_first_col():\n"
     ]
    },
    {
     "data": {
      "text/plain": [
       "array([[<AxesSubplot:title={'center':'X'}>,\n",
       "        <AxesSubplot:title={'center':'Y'}>],\n",
       "       [<AxesSubplot:title={'center':'label'}>, <AxesSubplot:>]],\n",
       "      dtype=object)"
      ]
     },
     "execution_count": 120,
     "metadata": {},
     "output_type": "execute_result"
    },
    {
     "data": {
      "image/png": "[encoded data removed]",
      "text/plain": [
       "<Figure size 432x288 with 1 Axes>"
      ]
     },
     "metadata": {
      "needs_background": "light"
     },
     "output_type": "display_data"
    },
    {
     "data": {
      "image/png": "[encoded data removed]",
      "text/plain": [
       "<Figure size 432x288 with 4 Axes>"
      ]
     },
     "metadata": {
      "needs_background": "light"
     },
     "output_type": "display_data"
    }
   ],
   "source": [
    "data[data['label'] == 0]['X'].hist()\n",
    "data[data['label'] == 1]['X'].hist()\n",
    "data.hist()\n"
   ]
  },
  {
   "cell_type": "markdown",
   "metadata": {},
   "source": [
    "3. Determine the prior probability for both classes."
   ]
  },
  {
   "cell_type": "code",
   "execution_count": 121,
   "metadata": {},
   "outputs": [
    {
     "name": "stdout",
     "output_type": "stream",
     "text": [
      "Class count :\n",
      "0    18\n",
      "1    36\n",
      "Name: label, dtype: int64\n",
      "Priors for class 0 : 0.3333333333333333\n",
      "Priors for class 1 : 0.6666666666666666\n"
     ]
    }
   ],
   "source": [
    "classes = data['label'].unique()\n",
    "classCounts = data['label'].value_counts()\n",
    "print(f'Class count :\\n{classCounts.sort_index()}')\n",
    "\n",
    "priors = classCounts/data['label'].size\n",
    "for c in classes:\n",
    "    print(f'Priors for class {c} : {priors[c]}')\n"
   ]
  },
  {
   "cell_type": "markdown",
   "metadata": {},
   "source": [
    "4. Determine the class conditional probabilities (likelihood) for the classes."
   ]
  },
  {
   "cell_type": "code",
   "execution_count": 122,
   "metadata": {},
   "outputs": [
    {
     "name": "stdout",
     "output_type": "stream",
     "text": [
      "1.0  1    0.666667\n",
      "     0    0.333333\n",
      "1.5  1    0.800000\n",
      "     0    0.200000\n",
      "2.0  1    1.000000\n",
      "2.5  1    0.666667\n",
      "     0    0.333333\n",
      "3.0  1    0.571429\n",
      "     0    0.428571\n",
      "4.0  0    1.000000\n",
      "5.0  0    1.000000\n",
      "Name: label, dtype: float64\n"
     ]
    }
   ],
   "source": [
    "\n",
    "likelihood = data.groupby(data['X'].values).apply(\n",
    "    lambda x: x['label'].value_counts()/len(x))\n",
    "\n",
    "print(likelihood)\n"
   ]
  },
  {
   "cell_type": "markdown",
   "metadata": {},
   "source": [
    "5. Plot the count of each unique element for each class."
   ]
  },
  {
   "cell_type": "code",
   "execution_count": 123,
   "metadata": {},
   "outputs": [
    {
     "name": "stdout",
     "output_type": "stream",
     "text": [
      "0  3.0    6\n",
      "   1.0    4\n",
      "   5.0    2\n",
      "   1.5    2\n",
      "   4.0    2\n",
      "   2.5    2\n",
      "1  3.0    8\n",
      "   2.0    8\n",
      "   1.5    8\n",
      "   1.0    8\n",
      "   2.5    4\n",
      "Name: X, dtype: int64\n"
     ]
    },
    {
     "data": {
      "image/png": "[encoded data removed]",
      "text/plain": [
       "<Figure size 432x288 with 1 Axes>"
      ]
     },
     "metadata": {
      "needs_background": "light"
     },
     "output_type": "display_data"
    }
   ],
   "source": [
    "uniqueCntPerClass = data.groupby(data['label'].values).apply(\n",
    "    lambda x: x['X'].value_counts())\n",
    "\n",
    "uniqueCntPerClass[0].hist()\n",
    "uniqueCntPerClass[1].hist()\n",
    "\n",
    "print(uniqueCntPerClass)\n"
   ]
  },
  {
   "cell_type": "markdown",
   "metadata": {},
   "source": [
    "6. Calculate the posterior probability of both classes and plot them."
   ]
  },
  {
   "cell_type": "code",
   "execution_count": 124,
   "metadata": {},
   "outputs": [
    {
     "name": "stdout",
     "output_type": "stream",
     "text": [
      "[[0.5, 0.36000000000000004, 0.0, 1.0, 0.5510204081632653, 9.0, 9.0], [2.0, 2.8800000000000003, 4.5, 4.0, 1.469387755102041, 0.0, 0.0]]\n"
     ]
    }
   ],
   "source": [
    "\n",
    "uniqeFeatures = data['X'].unique()\n",
    "uniqeFeatures.sort()\n",
    "evidenceProb = data['X'].value_counts()/len(data)\n",
    "posterior = []\n",
    "\n",
    "\n",
    "for c in classes:\n",
    "    classPost = []\n",
    "    for f in uniqeFeatures:\n",
    "        classPost.append((likelihood[f].get(c, 0)*priors[c])/evidenceProb[f])\n",
    "    posterior.append(classPost)\n",
    "\n",
    "print(posterior)\n"
   ]
  },
  {
   "cell_type": "code",
   "execution_count": 125,
   "metadata": {},
   "outputs": [
    {
     "name": "stdout",
     "output_type": "stream",
     "text": [
      "           0         1\n",
      "1.0  0.50000  2.000000\n",
      "1.5  0.36000  2.880000\n",
      "2.0  0.00000  4.500000\n",
      "2.5  1.00000  4.000000\n",
      "3.0  0.55102  1.469388\n",
      "4.0  9.00000  0.000000\n",
      "5.0  9.00000  0.000000\n"
     ]
    },
    {
     "data": {
      "text/plain": [
       "<AxesSubplot:>"
      ]
     },
     "execution_count": 125,
     "metadata": {},
     "output_type": "execute_result"
    },
    {
     "data": {
      "image/png": "[encoded data removed]",
      "text/plain": [
       "<Figure size 432x288 with 1 Axes>"
      ]
     },
     "metadata": {
      "needs_background": "light"
     },
     "output_type": "display_data"
    }
   ],
   "source": [
    "\n",
    "postDf = pd.DataFrame(posterior, columns=uniqeFeatures).T\n",
    "print(postDf)\n",
    "postDf.plot()\n"
   ]
  },
  {
   "cell_type": "markdown",
   "metadata": {},
   "source": [
    "7. Consider the dataset of question 1 and select any one feature and class label. Repeat\n",
    "1 to 6."
   ]
  },
  {
   "cell_type": "code",
   "execution_count": 126,
   "metadata": {},
   "outputs": [
    {
     "data": {
      "text/html": [
       "<div>\n",
       "<style scoped>\n",
       "    .dataframe tbody tr th:only-of-type {\n",
       "        vertical-align: middle;\n",
       "    }\n",
       "\n",
       "    .dataframe tbody tr th {\n",
       "        vertical-align: top;\n",
       "    }\n",
       "\n",
       "    .dataframe thead th {\n",
       "        text-align: right;\n",
       "    }\n",
       "</style>\n",
       "<table border=\"1\" class=\"dataframe\">\n",
       "  <thead>\n",
       "    <tr style=\"text-align: right;\">\n",
       "      <th></th>\n",
       "      <th>sepal.length</th>\n",
       "      <th>sepal.width</th>\n",
       "      <th>petal.length</th>\n",
       "      <th>petal.width</th>\n",
       "      <th>variety</th>\n",
       "    </tr>\n",
       "  </thead>\n",
       "  <tbody>\n",
       "    <tr>\n",
       "      <th>0</th>\n",
       "      <td>5.1</td>\n",
       "      <td>3.5</td>\n",
       "      <td>1.4</td>\n",
       "      <td>0.2</td>\n",
       "      <td>Setosa</td>\n",
       "    </tr>\n",
       "    <tr>\n",
       "      <th>1</th>\n",
       "      <td>4.9</td>\n",
       "      <td>3.0</td>\n",
       "      <td>1.4</td>\n",
       "      <td>0.2</td>\n",
       "      <td>Setosa</td>\n",
       "    </tr>\n",
       "    <tr>\n",
       "      <th>2</th>\n",
       "      <td>4.7</td>\n",
       "      <td>3.2</td>\n",
       "      <td>1.3</td>\n",
       "      <td>0.2</td>\n",
       "      <td>Setosa</td>\n",
       "    </tr>\n",
       "    <tr>\n",
       "      <th>3</th>\n",
       "      <td>4.6</td>\n",
       "      <td>3.1</td>\n",
       "      <td>1.5</td>\n",
       "      <td>0.2</td>\n",
       "      <td>Setosa</td>\n",
       "    </tr>\n",
       "    <tr>\n",
       "      <th>4</th>\n",
       "      <td>5.0</td>\n",
       "      <td>3.6</td>\n",
       "      <td>1.4</td>\n",
       "      <td>0.2</td>\n",
       "      <td>Setosa</td>\n",
       "    </tr>\n",
       "  </tbody>\n",
       "</table>\n",
       "</div>"
      ],
      "text/plain": [
       "   sepal.length  sepal.width  petal.length  petal.width variety\n",
       "0           5.1          3.5           1.4          0.2  Setosa\n",
       "1           4.9          3.0           1.4          0.2  Setosa\n",
       "2           4.7          3.2           1.3          0.2  Setosa\n",
       "3           4.6          3.1           1.5          0.2  Setosa\n",
       "4           5.0          3.6           1.4          0.2  Setosa"
      ]
     },
     "execution_count": 126,
     "metadata": {},
     "output_type": "execute_result"
    }
   ],
   "source": [
    "dataQ1 = pd.read_csv('data-ques-1/iris_dataset.csv')\n",
    "dataQ1.head()\n"
   ]
  },
  {
   "cell_type": "code",
   "execution_count": 127,
   "metadata": {},
   "outputs": [
    {
     "data": {
      "text/plain": [
       "<AxesSubplot:>"
      ]
     },
     "execution_count": 127,
     "metadata": {},
     "output_type": "execute_result"
    },
    {
     "data": {
      "image/png": "[encoded data removed]",
      "text/plain": [
       "<Figure size 432x288 with 1 Axes>"
      ]
     },
     "metadata": {
      "needs_background": "light"
     },
     "output_type": "display_data"
    }
   ],
   "source": [
    "dataQ1['variety'].hist()\n"
   ]
  },
  {
   "cell_type": "markdown",
   "metadata": {},
   "source": [
    "- Selected sepal.length as seceted feature"
   ]
  },
  {
   "cell_type": "code",
   "execution_count": 128,
   "metadata": {},
   "outputs": [],
   "source": [
    "x = 'sepal.length'\n",
    "label = 'variety'"
   ]
  },
  {
   "cell_type": "markdown",
   "metadata": {},
   "source": [
    "- Plot the distribution of samples using the histogram."
   ]
  },
  {
   "cell_type": "code",
   "execution_count": 129,
   "metadata": {},
   "outputs": [
    {
     "name": "stdout",
     "output_type": "stream",
     "text": [
      "Class count :\n",
      "Setosa        50\n",
      "Versicolor    50\n",
      "Virginica     50\n",
      "Name: variety, dtype: int64\n"
     ]
    },
    {
     "data": {
      "image/png": "[encoded data removed]",
      "text/plain": [
       "<Figure size 432x288 with 1 Axes>"
      ]
     },
     "metadata": {
      "needs_background": "light"
     },
     "output_type": "display_data"
    }
   ],
   "source": [
    "classes = dataQ1[label].unique()\n",
    "classCounts = dataQ1[label].value_counts()\n",
    "print(f'Class count :\\n{classCounts.sort_index()}')\n",
    "\n",
    "for cls in classes:\n",
    "    dataQ1[dataQ1[label]==cls][x].hist()\n"
   ]
  },
  {
   "cell_type": "markdown",
   "metadata": {},
   "source": [
    "- Determine the prior probability for both classes"
   ]
  },
  {
   "cell_type": "code",
   "execution_count": 130,
   "metadata": {},
   "outputs": [
    {
     "name": "stdout",
     "output_type": "stream",
     "text": [
      "Priors for class Setosa : 0.3333333333333333\n",
      "Priors for class Versicolor : 0.3333333333333333\n",
      "Priors for class Virginica : 0.3333333333333333\n"
     ]
    }
   ],
   "source": [
    "priors = classCounts/dataQ1[label].size\n",
    "for c in classes:\n",
    "    print(f'Priors for class {c} : {priors[c]}')"
   ]
  },
  {
   "cell_type": "markdown",
   "metadata": {},
   "source": [
    "- Determine the class conditional probabilities (likelihood) for the classes."
   ]
  },
  {
   "cell_type": "code",
   "execution_count": 131,
   "metadata": {},
   "outputs": [
    {
     "name": "stdout",
     "output_type": "stream",
     "text": [
      "4.3  Setosa        1.000000\n",
      "4.4  Setosa        1.000000\n",
      "4.5  Setosa        1.000000\n",
      "4.6  Setosa        1.000000\n",
      "4.7  Setosa        1.000000\n",
      "4.8  Setosa        1.000000\n",
      "4.9  Setosa        0.666667\n",
      "     Versicolor    0.166667\n",
      "     Virginica     0.166667\n",
      "5.0  Setosa        0.800000\n",
      "     Versicolor    0.200000\n",
      "5.1  Setosa        0.888889\n",
      "     Versicolor    0.111111\n",
      "5.2  Setosa        0.750000\n",
      "     Versicolor    0.250000\n",
      "5.3  Setosa        1.000000\n",
      "5.4  Setosa        0.833333\n",
      "     Versicolor    0.166667\n",
      "5.5  Versicolor    0.714286\n",
      "     Setosa        0.285714\n",
      "5.6  Versicolor    0.833333\n",
      "     Virginica     0.166667\n",
      "5.7  Versicolor    0.625000\n",
      "     Setosa        0.250000\n",
      "     Virginica     0.125000\n",
      "5.8  Versicolor    0.428571\n",
      "     Virginica     0.428571\n",
      "     Setosa        0.142857\n",
      "5.9  Versicolor    0.666667\n",
      "     Virginica     0.333333\n",
      "6.0  Versicolor    0.666667\n",
      "     Virginica     0.333333\n",
      "6.1  Versicolor    0.666667\n",
      "     Virginica     0.333333\n",
      "6.2  Versicolor    0.500000\n",
      "     Virginica     0.500000\n",
      "6.3  Virginica     0.666667\n",
      "     Versicolor    0.333333\n",
      "6.4  Virginica     0.714286\n",
      "     Versicolor    0.285714\n",
      "6.5  Virginica     0.800000\n",
      "     Versicolor    0.200000\n",
      "6.6  Versicolor    1.000000\n",
      "6.7  Virginica     0.625000\n",
      "     Versicolor    0.375000\n",
      "6.8  Virginica     0.666667\n",
      "     Versicolor    0.333333\n",
      "6.9  Virginica     0.750000\n",
      "     Versicolor    0.250000\n",
      "7.0  Versicolor    1.000000\n",
      "7.1  Virginica     1.000000\n",
      "7.2  Virginica     1.000000\n",
      "7.3  Virginica     1.000000\n",
      "7.4  Virginica     1.000000\n",
      "7.6  Virginica     1.000000\n",
      "7.7  Virginica     1.000000\n",
      "7.9  Virginica     1.000000\n",
      "Name: variety, dtype: float64\n"
     ]
    }
   ],
   "source": [
    "likelihood = dataQ1.groupby(dataQ1[x].values).apply(\n",
    "    lambda x: x[label].value_counts()/len(x))\n",
    "\n",
    "print(likelihood)"
   ]
  },
  {
   "cell_type": "markdown",
   "metadata": {},
   "source": [
    "-  Plot the count of each unique element for each class."
   ]
  },
  {
   "cell_type": "code",
   "execution_count": 132,
   "metadata": {},
   "outputs": [
    {
     "name": "stdout",
     "output_type": "stream",
     "text": [
      "Setosa      5.0    8\n",
      "            5.1    8\n",
      "            4.8    5\n",
      "            5.4    5\n",
      "            4.9    4\n",
      "            4.6    4\n",
      "            5.2    3\n",
      "            4.4    3\n",
      "            4.7    2\n",
      "            5.7    2\n",
      "            5.5    2\n",
      "            4.5    1\n",
      "            5.8    1\n",
      "            4.3    1\n",
      "            5.3    1\n",
      "Versicolor  5.6    5\n",
      "            5.7    5\n",
      "            5.5    5\n",
      "            6.0    4\n",
      "            6.1    4\n",
      "            6.3    3\n",
      "            6.7    3\n",
      "            5.8    3\n",
      "            6.2    2\n",
      "            5.0    2\n",
      "            6.4    2\n",
      "            6.6    2\n",
      "            5.9    2\n",
      "            5.2    1\n",
      "            5.4    1\n",
      "            5.1    1\n",
      "            7.0    1\n",
      "            6.8    1\n",
      "            4.9    1\n",
      "            6.5    1\n",
      "            6.9    1\n",
      "Virginica   6.3    6\n",
      "            6.7    5\n",
      "            6.4    5\n",
      "            7.7    4\n",
      "            6.5    4\n",
      "            6.9    3\n",
      "            7.2    3\n",
      "            5.8    3\n",
      "            6.1    2\n",
      "            6.8    2\n",
      "            6.2    2\n",
      "            6.0    2\n",
      "            5.6    1\n",
      "            7.3    1\n",
      "            7.6    1\n",
      "            7.9    1\n",
      "            7.1    1\n",
      "            5.7    1\n",
      "            4.9    1\n",
      "            5.9    1\n",
      "            7.4    1\n",
      "Name: sepal.length, dtype: int64\n"
     ]
    },
    {
     "data": {
      "image/png": "[encoded data removed]",
      "text/plain": [
       "<Figure size 432x288 with 1 Axes>"
      ]
     },
     "metadata": {
      "needs_background": "light"
     },
     "output_type": "display_data"
    }
   ],
   "source": [
    "uniqueCntPerClass = dataQ1.groupby(dataQ1[label].values).apply(\n",
    "    lambda a: a[x].value_counts())\n",
    "\n",
    "for c in classes:\n",
    "    uniqueCntPerClass[c].hist()\n",
    "\n",
    "print(uniqueCntPerClass)"
   ]
  },
  {
   "cell_type": "markdown",
   "metadata": {},
   "source": [
    "- Calculate the posterior probability of both classes and plot them."
   ]
  },
  {
   "cell_type": "code",
   "execution_count": 133,
   "metadata": {},
   "outputs": [
    {
     "name": "stdout",
     "output_type": "stream",
     "text": [
      "[[49.99999999999999, 16.666666666666664, 49.99999999999999, 12.499999999999998, 24.999999999999996, 10.0, 5.555555555555555, 4.0, 4.938271604938271, 9.375, 49.99999999999999, 6.944444444444445, 2.040816326530612, 0.0, 1.5624999999999998, 1.020408163265306, 0.0, 0.0, 0.0, 0.0, 0.0, 0.0, 0.0, 0.0, 0.0, 0.0, 0.0, 0.0, 0.0, 0.0, 0.0, 0.0, 0.0, 0.0, 0.0], [0.0, 0.0, 0.0, 0.0, 0.0, 0.0, 1.3888888888888888, 1.0, 0.6172839506172839, 3.1249999999999996, 0.0, 1.3888888888888888, 5.1020408163265305, 6.944444444444445, 3.9062499999999996, 3.061224489795918, 11.11111111111111, 5.555555555555555, 5.555555555555555, 6.249999999999999, 1.8518518518518519, 2.040816326530612, 2.0, 24.999999999999996, 2.34375, 5.555555555555555, 3.1249999999999996, 49.99999999999999, 0.0, 0.0, 0.0, 0.0, 0.0, 0.0, 0.0], [0.0, 0.0, 0.0, 0.0, 0.0, 0.0, 1.3888888888888888, 0.0, 0.0, 0.0, 0.0, 0.0, 0.0, 1.3888888888888888, 0.7812499999999999, 3.061224489795918, 5.555555555555555, 2.7777777777777777, 2.7777777777777777, 6.249999999999999, 3.7037037037037037, 5.1020408163265305, 8.0, 0.0, 3.9062499999999996, 11.11111111111111, 9.375, 0.0, 49.99999999999999, 16.666666666666664, 49.99999999999999, 49.99999999999999, 49.99999999999999, 12.499999999999998, 49.99999999999999]]\n"
     ]
    }
   ],
   "source": [
    "\n",
    "uniqeFeatures = dataQ1[x].unique()\n",
    "uniqeFeatures.sort()\n",
    "evidenceProb = dataQ1[x].value_counts()/len(dataQ1)\n",
    "posterior = []\n",
    "\n",
    "\n",
    "for c in classes:\n",
    "    classPost = []\n",
    "    for f in uniqeFeatures:\n",
    "        classPost.append((likelihood[f].get(c, 0)*priors[c])/evidenceProb[f])\n",
    "    posterior.append(classPost)\n",
    "\n",
    "print(posterior)"
   ]
  },
  {
   "cell_type": "code",
   "execution_count": 134,
   "metadata": {},
   "outputs": [
    {
     "name": "stdout",
     "output_type": "stream",
     "text": [
      "             0          1          2\n",
      "4.3  50.000000   0.000000   0.000000\n",
      "4.4  16.666667   0.000000   0.000000\n",
      "4.5  50.000000   0.000000   0.000000\n",
      "4.6  12.500000   0.000000   0.000000\n",
      "4.7  25.000000   0.000000   0.000000\n",
      "4.8  10.000000   0.000000   0.000000\n",
      "4.9   5.555556   1.388889   1.388889\n",
      "5.0   4.000000   1.000000   0.000000\n",
      "5.1   4.938272   0.617284   0.000000\n",
      "5.2   9.375000   3.125000   0.000000\n",
      "5.3  50.000000   0.000000   0.000000\n",
      "5.4   6.944444   1.388889   0.000000\n",
      "5.5   2.040816   5.102041   0.000000\n",
      "5.6   0.000000   6.944444   1.388889\n",
      "5.7   1.562500   3.906250   0.781250\n",
      "5.8   1.020408   3.061224   3.061224\n",
      "5.9   0.000000  11.111111   5.555556\n",
      "6.0   0.000000   5.555556   2.777778\n",
      "6.1   0.000000   5.555556   2.777778\n",
      "6.2   0.000000   6.250000   6.250000\n",
      "6.3   0.000000   1.851852   3.703704\n",
      "6.4   0.000000   2.040816   5.102041\n",
      "6.5   0.000000   2.000000   8.000000\n",
      "6.6   0.000000  25.000000   0.000000\n",
      "6.7   0.000000   2.343750   3.906250\n",
      "6.8   0.000000   5.555556  11.111111\n",
      "6.9   0.000000   3.125000   9.375000\n",
      "7.0   0.000000  50.000000   0.000000\n",
      "7.1   0.000000   0.000000  50.000000\n",
      "7.2   0.000000   0.000000  16.666667\n",
      "7.3   0.000000   0.000000  50.000000\n",
      "7.4   0.000000   0.000000  50.000000\n",
      "7.6   0.000000   0.000000  50.000000\n",
      "7.7   0.000000   0.000000  12.500000\n",
      "7.9   0.000000   0.000000  50.000000\n"
     ]
    },
    {
     "data": {
      "text/plain": [
       "<AxesSubplot:>"
      ]
     },
     "execution_count": 134,
     "metadata": {},
     "output_type": "execute_result"
    },
    {
     "data": {
      "image/png": "[encoded data removed]",
      "text/plain": [
       "<Figure size 432x288 with 1 Axes>"
      ]
     },
     "metadata": {
      "needs_background": "light"
     },
     "output_type": "display_data"
    }
   ],
   "source": [
    "\n",
    "postDf = pd.DataFrame(posterior, columns=uniqeFeatures).T\n",
    "print(postDf)\n",
    "postDf.plot()"
   ]
  }
 ],
 "metadata": {
  "interpreter": {
   "hash": "ac59ebe37160ed0dfa835113d9b8498d9f09ceb179beaac4002f036b9467c963"
  },
  "kernelspec": {
   "display_name": "Python 3.9.3 64-bit",
   "language": "python",
   "name": "python3"
  },
  "language_info": {
   "codemirror_mode": {
    "name": "ipython",
    "version": 3
   },
   "file_extension": ".py",
   "mimetype": "text/x-python",
   "name": "python",
   "nbconvert_exporter": "python",
   "pygments_lexer": "ipython3",
   "version": "3.9.3"
  },
  "orig_nbformat": 4
 },
 "nbformat": 4,
 "nbformat_minor": 2
}
