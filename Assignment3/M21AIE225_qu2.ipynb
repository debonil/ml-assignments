{
 "cells": [
  {
   "cell_type": "markdown",
   "metadata": {},
   "source": [
    "# Question 2.\n",
    "Implement the Principal Component Analysis algorithm for reducing the dimensionality of the points\n",
    "given in the datasets: https://archive.ics.uci.edu/ml/machine-learning-databases/iris/iris.\n",
    "data. Each point of this dataset is a 4-dimensional vector (d = 4) given in the first column of the datafile.\n",
    "Reduce the dimensionality to 2 (k = 2). This dataset contains 3 clusters. Ground-truth cluster IDs are\n",
    "given as the fifth column of the data file. In order to evaluate the performance of the PCA algorithm,\n",
    "perform clustering (in 3 clusters) before and after dimensionality reduction using the Spectral Clustering\n",
    "algorithm and then find the percentage of points for which the estimated cluster label is correct. Report\n",
    "the accuracy of the Spectral Clustering algorithm before and after the dimensionality reduction. Report\n",
    "the reconstruction error for k = 1, 2, 3. [15 Marks]\n",
    "1\n"
   ]
  },
  {
   "cell_type": "code",
   "execution_count": 33,
   "metadata": {},
   "outputs": [],
   "source": [
    "import sys\n",
    "import pandas as pd\n",
    "import matplotlib.pyplot as plt\n",
    "import seaborn as sns\n",
    "sns.set(rc={'axes.facecolor': 'lightblue', 'figure.facecolor': 'lightblue'})"
   ]
  },
  {
   "cell_type": "markdown",
   "metadata": {},
   "source": [
    "- Utility function for confusion Matrix And Accuracy Report"
   ]
  },
  {
   "cell_type": "code",
   "execution_count": 34,
   "metadata": {},
   "outputs": [],
   "source": [
    "from sklearn import metrics\n",
    "import numpy as np\n",
    "\n",
    "def confusionMatrixAndAccuracyReport(Y_test, Y_pred):\n",
    "    cm = metrics.confusion_matrix(Y_test, Y_pred)\n",
    "    overallAccuracy = np.trace(cm)/sum(cm.flatten())\n",
    "\n",
    "    classwiseAccuracy = np.zeros(len(cm))\n",
    "    for n in range(len(cm)):\n",
    "        for i in range(len(cm)):\n",
    "            for j in range(len(cm)):\n",
    "                if (i != n and j != n) or (i == n and j == n):\n",
    "                    classwiseAccuracy[n] += cm[i][j]\n",
    "\n",
    "    classwiseAccuracy /= sum(cm.flatten())\n",
    "\n",
    "    plt.figure(figsize=(6, 6))\n",
    "    plt.title('Accuracy Score: {0:3.3f}'.format(overallAccuracy), size=12)\n",
    "    plt.ylabel('Actual label')\n",
    "    plt.xlabel('Predicted label')\n",
    "    sns.heatmap(data=cm, annot=True, square=True,  cmap='Blues')\n",
    "\n",
    "    plt.show()\n",
    "    print('Overall Accuracy Score: {0:3.3f}'.format(overallAccuracy))\n",
    "    print('Classwise Accuracy Score: {0}'.format(classwiseAccuracy))\n"
   ]
  },
  {
   "cell_type": "markdown",
   "metadata": {},
   "source": [
    "- Data load"
   ]
  },
  {
   "cell_type": "code",
   "execution_count": 35,
   "metadata": {},
   "outputs": [
    {
     "data": {
      "text/html": [
       "<div>\n",
       "<style scoped>\n",
       "    .dataframe tbody tr th:only-of-type {\n",
       "        vertical-align: middle;\n",
       "    }\n",
       "\n",
       "    .dataframe tbody tr th {\n",
       "        vertical-align: top;\n",
       "    }\n",
       "\n",
       "    .dataframe thead th {\n",
       "        text-align: right;\n",
       "    }\n",
       "</style>\n",
       "<table border=\"1\" class=\"dataframe\">\n",
       "  <thead>\n",
       "    <tr style=\"text-align: right;\">\n",
       "      <th></th>\n",
       "      <th>Sepal.Length</th>\n",
       "      <th>Sepal.Width</th>\n",
       "      <th>Petal.Length</th>\n",
       "      <th>Petal.Width</th>\n",
       "      <th>Class</th>\n",
       "    </tr>\n",
       "  </thead>\n",
       "  <tbody>\n",
       "    <tr>\n",
       "      <th>0</th>\n",
       "      <td>5.1</td>\n",
       "      <td>3.5</td>\n",
       "      <td>1.4</td>\n",
       "      <td>0.2</td>\n",
       "      <td>Iris-setosa</td>\n",
       "    </tr>\n",
       "    <tr>\n",
       "      <th>1</th>\n",
       "      <td>4.9</td>\n",
       "      <td>3.0</td>\n",
       "      <td>1.4</td>\n",
       "      <td>0.2</td>\n",
       "      <td>Iris-setosa</td>\n",
       "    </tr>\n",
       "    <tr>\n",
       "      <th>2</th>\n",
       "      <td>4.7</td>\n",
       "      <td>3.2</td>\n",
       "      <td>1.3</td>\n",
       "      <td>0.2</td>\n",
       "      <td>Iris-setosa</td>\n",
       "    </tr>\n",
       "    <tr>\n",
       "      <th>3</th>\n",
       "      <td>4.6</td>\n",
       "      <td>3.1</td>\n",
       "      <td>1.5</td>\n",
       "      <td>0.2</td>\n",
       "      <td>Iris-setosa</td>\n",
       "    </tr>\n",
       "    <tr>\n",
       "      <th>4</th>\n",
       "      <td>5.0</td>\n",
       "      <td>3.6</td>\n",
       "      <td>1.4</td>\n",
       "      <td>0.2</td>\n",
       "      <td>Iris-setosa</td>\n",
       "    </tr>\n",
       "  </tbody>\n",
       "</table>\n",
       "</div>"
      ],
      "text/plain": [
       "   Sepal.Length  Sepal.Width   Petal.Length  Petal.Width        Class\n",
       "0           5.1          3.5            1.4          0.2  Iris-setosa\n",
       "1           4.9          3.0            1.4          0.2  Iris-setosa\n",
       "2           4.7          3.2            1.3          0.2  Iris-setosa\n",
       "3           4.6          3.1            1.5          0.2  Iris-setosa\n",
       "4           5.0          3.6            1.4          0.2  Iris-setosa"
      ]
     },
     "execution_count": 35,
     "metadata": {},
     "output_type": "execute_result"
    }
   ],
   "source": [
    "\n",
    "dataset = pd.read_csv('data-ques-2/iris.data',names=['Sepal.Length', 'Sepal.Width', ' Petal.Length', 'Petal.Width','Class'])\n",
    "#print (sys.argv)\n",
    "dataset.head()"
   ]
  },
  {
   "cell_type": "code",
   "execution_count": 36,
   "metadata": {},
   "outputs": [],
   "source": [
    "features = ['Sepal.Length', 'Sepal.Width', ' Petal.Length', 'Petal.Width']\n",
    "X = dataset[features].values\n",
    "Y = dataset['Class'].values"
   ]
  },
  {
   "cell_type": "code",
   "execution_count": 37,
   "metadata": {},
   "outputs": [],
   "source": [
    "from sklearn.preprocessing import StandardScaler,LabelEncoder\n",
    "X = StandardScaler().fit_transform(X)\n",
    "Y_bin = LabelEncoder().fit_transform(Y)"
   ]
  },
  {
   "cell_type": "code",
   "execution_count": 38,
   "metadata": {},
   "outputs": [],
   "source": [
    "from sklearn.decomposition import PCA\n",
    "pca = PCA(n_components=2)\n",
    "principalComponents = pca.fit_transform(X)\n",
    "principalDf = pd.DataFrame(data = principalComponents\n",
    "             , columns = ['PC 1', 'PC 2'])"
   ]
  },
  {
   "cell_type": "code",
   "execution_count": 39,
   "metadata": {},
   "outputs": [
    {
     "data": {
      "text/plain": [
       "<AxesSubplot:xlabel='PC 1', ylabel='PC 2'>"
      ]
     },
     "execution_count": 39,
     "metadata": {},
     "output_type": "execute_result"
    },
    {
     "data": {
      "image/png": "[encoded data removed]",
      "text/plain": [
       "<Figure size 432x288 with 1 Axes>"
      ]
     },
     "metadata": {},
     "output_type": "display_data"
    }
   ],
   "source": [
    "sns.scatterplot(data = principalDf , x = 'PC 1',y = 'PC 2' , hue = Y,  palette= 'rocket_r' )"
   ]
  },
  {
   "cell_type": "code",
   "execution_count": 40,
   "metadata": {},
   "outputs": [],
   "source": [
    "from sklearn.cluster import SpectralClustering\n",
    "model = SpectralClustering(n_clusters=3)"
   ]
  },
  {
   "cell_type": "code",
   "execution_count": 43,
   "metadata": {},
   "outputs": [
    {
     "data": {
      "image/png": "[encoded data removed]",
      "text/plain": [
       "<Figure size 432x432 with 2 Axes>"
      ]
     },
     "metadata": {},
     "output_type": "display_data"
    },
    {
     "name": "stdout",
     "output_type": "stream",
     "text": [
      "Overall Accuracy Score: 0.847\n",
      "Classwise Accuracy Score: [1.         0.84666667 0.84666667]\n"
     ]
    }
   ],
   "source": [
    "pred = model.fit_predict(X)\n",
    "\n",
    "confusionMatrixAndAccuracyReport(Y_bin,pred)"
   ]
  },
  {
   "cell_type": "code",
   "execution_count": 56,
   "metadata": {},
   "outputs": [
    {
     "data": {
      "image/png": "[encoded data removed]",
      "text/plain": [
       "<Figure size 432x432 with 2 Axes>"
      ]
     },
     "metadata": {},
     "output_type": "display_data"
    },
    {
     "name": "stdout",
     "output_type": "stream",
     "text": [
      "Overall Accuracy Score: 0.833\n",
      "Classwise Accuracy Score: [1.         0.83333333 0.83333333]\n"
     ]
    }
   ],
   "source": [
    "predPca = model.fit_predict(principalDf)\n",
    "\n",
    "confusionMatrixAndAccuracyReport(Y_bin,predPca)"
   ]
  },
  {
   "cell_type": "code",
   "execution_count": 57,
   "metadata": {},
   "outputs": [],
   "source": [
    "def reconstructionError(X_train, X_projected):\n",
    "    return np.sum((X_train - X_projected) ** 2, axis=1).mean()"
   ]
  },
  {
   "cell_type": "code",
   "execution_count": 60,
   "metadata": {},
   "outputs": [
    {
     "name": "stdout",
     "output_type": "stream",
     "text": [
      "The reconstruction error for k = 0 is :: 4.0\n",
      "The reconstruction error for k = 1 is :: 1.0891819162479464\n",
      "The reconstruction error for k = 2 is :: 0.16796098554072109\n"
     ]
    }
   ],
   "source": [
    "for k in range(3):\n",
    "    pca_k = PCA(n_components=k)\n",
    "    pc_x_train = pca_k.fit_transform(X)\n",
    "    pc_x_projected = pca_k.inverse_transform(pc_x_train)\n",
    "    print(f'The reconstruction error for k = {k} is :: {reconstructionError(X,pc_x_projected)}')"
   ]
  },
  {
   "cell_type": "code",
   "execution_count": 63,
   "metadata": {},
   "outputs": [
    {
     "name": "stdout",
     "output_type": "stream",
     "text": [
      "[[-3, -3], [-1, -1], [1, 1], [3, 3]]\n",
      "[[ 4.24264069]\n",
      " [ 1.41421356]\n",
      " [-1.41421356]\n",
      " [-4.24264069]]\n",
      "[[-3. -3.]\n",
      " [-1. -1.]\n",
      " [ 1.  1.]\n",
      " [ 3.  3.]]\n",
      "The reconstruction error is :: 1.8858706015439813e-30\n"
     ]
    }
   ],
   "source": [
    "x=[[-3,-3],[-1,-1],[1,1],[3,3]]\n",
    "print(x)\n",
    "pca_k = PCA(n_components=1)\n",
    "pc_x_train = pca_k.fit_transform(x)\n",
    "print(pc_x_train)\n",
    "pc_x_projected = pca_k.inverse_transform(pc_x_train)\n",
    "print(pc_x_projected)\n",
    "print(f'The reconstruction error is :: {reconstructionError(x,pc_x_projected)}')"
   ]
  }
 ],
 "metadata": {
  "interpreter": {
   "hash": "ac59ebe37160ed0dfa835113d9b8498d9f09ceb179beaac4002f036b9467c963"
  },
  "kernelspec": {
   "display_name": "Python 3.9.3 64-bit",
   "language": "python",
   "name": "python3"
  },
  "language_info": {
   "codemirror_mode": {
    "name": "ipython",
    "version": 3
   },
   "file_extension": ".py",
   "mimetype": "text/x-python",
   "name": "python",
   "nbconvert_exporter": "python",
   "pygments_lexer": "ipython3",
   "version": "3.9.3"
  },
  "orig_nbformat": 4
 },
 "nbformat": 4,
 "nbformat_minor": 2
}
