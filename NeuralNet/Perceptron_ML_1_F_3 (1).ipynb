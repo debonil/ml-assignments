{
  "cells": [
    {
      "cell_type": "code",
      "execution_count": 1,
      "metadata": {
        "colab": {
          "base_uri": "https://localhost:8080/"
        },
        "id": "iw6qfqTGWp7M",
        "outputId": "483d5652-4394-47fd-faca-b351198527d2"
      },
      "outputs": [
        {
          "name": "stdout",
          "output_type": "stream",
          "text": [
            "[[ 33.16666667   8.        ]\n",
            " [ 37.16666667   6.        ]\n",
            " [ 42.16666667  18.        ]\n",
            " [-37.83333333 -12.        ]\n",
            " [-38.83333333  -7.        ]\n",
            " [-35.83333333 -13.        ]]\n",
            "[1, 1, 1, 0, 0, 0]\n"
          ]
        }
      ],
      "source": [
        "import numpy as np\n",
        "import matplotlib.pyplot as plt\n",
        "apple = np.array([[171,80],[175,78],[180,90]])\n",
        "orange = np.array([[100,60],[99,65],[102,59]])\n",
        "data= np.concatenate((apple, orange), axis=0) # data is 6 rows and 2 columns\n",
        "data = data - np.mean(data,axis=0) # will make data mean = 0\n",
        "print(data)\n",
        "y=[1,1,1, 0, 0, 0]\n",
        "print(y)"
      ]
    },
    {
      "cell_type": "markdown",
      "metadata": {
        "id": "GdNF_irxen7B"
      },
      "source": []
    },
    {
      "cell_type": "code",
      "execution_count": 2,
      "metadata": {
        "colab": {
          "base_uri": "https://localhost:8080/",
          "height": 279
        },
        "id": "HAQHyW3WW-jc",
        "outputId": "ccc79480-79e7-4550-d241-54a0867f3379"
      },
      "outputs": [
        {
          "data": {
            "image/png": "[encoded data removed]",
            "text/plain": [
              "<Figure size 432x288 with 1 Axes>"
            ]
          },
          "metadata": {
            "needs_background": "light"
          },
          "output_type": "display_data"
        }
      ],
      "source": [
        "plt.scatter(np.array(data[0:3,0]), np.array(data[0:3,1]), marker='+', label='apple')\n",
        "plt.scatter(np.array(data[4:6,0]), np.array(data[4:6,1]), marker='*', label='orange')\n",
        "plt.xlabel('redness')\n",
        "plt.ylabel('weight')\n",
        "plt.legend()\n",
        "plt.show()"
      ]
    },
    {
      "cell_type": "code",
      "execution_count": 3,
      "metadata": {
        "colab": {
          "base_uri": "https://localhost:8080/"
        },
        "id": "oQDhod7X4vdz",
        "outputId": "f2f69aca-5c29-4abd-e292-fd98f6818003"
      },
      "outputs": [
        {
          "name": "stdout",
          "output_type": "stream",
          "text": [
            "[0.42287857 0.19930325 1.        ]\n"
          ]
        }
      ],
      "source": [
        "correctClassified = 0\n",
        "w = np.random.rand(2,1) # Randomly initialize w\n",
        "w = np.append(w,1) # append w0=1\n",
        "print(w)"
      ]
    },
    {
      "cell_type": "code",
      "execution_count": 4,
      "metadata": {
        "colab": {
          "base_uri": "https://localhost:8080/"
        },
        "id": "tUXc1daH5RyS",
        "outputId": "24d168da-287e-4fc5-f4ca-9fe0113dae5e"
      },
      "outputs": [
        {
          "name": "stdout",
          "output_type": "stream",
          "text": [
            "sample is pos\n",
            "sample is pos\n",
            "sample is pos\n",
            "sample is neg\n",
            "sample is neg\n",
            "sample is neg\n",
            "[0.42287857 0.19930325 1.        ]\n"
          ]
        }
      ],
      "source": [
        "while (correctClassified != len(data)): #Until everything is classified\n",
        "  for sample in range(len(data)):\n",
        "    x = np.append(data[sample,0:2],1)\n",
        "    if y[sample]==1: #Sample is positive (orange)\n",
        "       if np.dot(np.transpose(w),x)>=0: #WX >= 0\n",
        "         correctClassified=correctClassified+1\n",
        "         print(\"sample is pos\")\n",
        "       else: #orange is classified as apple\n",
        "          w=w+x\n",
        "    else: #Sample is Negative (apple)\n",
        "         if np.dot(np.transpose(w),x)<0: # WX < 0\n",
        "           correctClassified=correctClassified+1\n",
        "           print(\"sample is neg\")\n",
        "         else: #apple is classified as orange\n",
        "           w=w-x\n",
        "  if(correctClassified != len(data)):\n",
        "      correctClassified=0           \n",
        "print(w)      "
      ]
    }
  ],
  "metadata": {
    "colab": {
      "name": "Perceptron_ML_1_F_3.ipynb",
      "provenance": []
    },
    "kernelspec": {
      "display_name": "Python 3",
      "name": "python3"
    },
    "language_info": {
      "codemirror_mode": {
        "name": "ipython",
        "version": 3
      },
      "file_extension": ".py",
      "mimetype": "text/x-python",
      "name": "python",
      "nbconvert_exporter": "python",
      "pygments_lexer": "ipython3",
      "version": "3.9.3"
    }
  },
  "nbformat": 4,
  "nbformat_minor": 0
}
